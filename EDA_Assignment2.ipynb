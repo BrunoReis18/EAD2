{
 "cells": [
  {
   "cell_type": "code",
   "execution_count": 2,
   "metadata": {},
   "outputs": [],
   "source": [
    "suppressWarnings(suppressMessages(library(tidyverse))) #ggplot and dplyr\n",
    "suppressWarnings(suppressMessages(library(reshape2))) #melt\n",
    "suppressWarnings(suppressMessages(library(VIM)))"
   ]
  },
  {
   "cell_type": "markdown",
   "metadata": {},
   "source": [
    "# EAD - Assignment2\n",
    "## Health systems -> How do each country's health indicators influence the growth of covid cases, tests and deaths?\n",
    "\n",
    "Vasco Campos -> up201908482\n",
    "\n",
    "Bruno Reis -> up201908682\n",
    "\n",
    "__Estatística e Análise de dados__, June 2020"
   ]
  },
  {
   "cell_type": "markdown",
   "metadata": {},
   "source": [
    "# Introduction\n",
    "blah blah blah"
   ]
  },
  {
   "cell_type": "markdown",
   "metadata": {},
   "source": [
    "# Datasets: adding predictor and target variables\n",
    "The main dataset contains some health system indicators for each country in the world, but lacks target variables and some descriptive variables like the population of the country for example or its continent.\n",
    "\n",
    "## World bank health systems\n",
    "__What does each column mean?__\n",
    "1. __Country__: the region as used in Kaggle Covid-19 spread data challenges.\n",
    "2. __Province__: the region as used in Kaggle Covid-19 spread data challenges.\n",
    "3. __Bank_Name__: the name of the country used by the World Bank\n",
    "4. __Health_exp_pct_of_GDP__: Level of current health expenditure expressed as a percentage of GDP. Estimates of current health expenditures include healthcare goods and services consumed during each year. This indicator does not include capital health expenditures such as buildings, machinery, IT and stocks of vaccines for emergency or outbreaks.\n",
    "5. __Health_exp_funded_by_public__: Share of current health expenditures funded from domestic public sources for health. Domestic public sources include domestic revenue as internal transfers and grants, transfers, subsidies to voluntary health insurance beneficiaries, non-profit institutions serving households (NPISH) or enterprise financing schemes as well as compulsory prepayment and social health insurance contributions. They do not include external resources spent by governments on health.\n",
    "6. __Health_exp_funded_by_household__: Share of out-of-pocket payments of total current health expenditures. Out-of-pocket payments are spending on health directly out-of-pocket by households.\n",
    "7. __Health_exp_percapita_USD__: Current expenditures on health per capita in current US dollars. Estimates of current health expenditures include healthcare goods and services consumed during each year.\n",
    "8. __Health_exp_percapita_PPP__: Current expenditures on health per capita expressed in international dollars at purchasing power parity (PPP).\n",
    "9. __Health_exp_pct_funded_by_externals__: Share of current health expenditures funded from external sources. External sources compose of direct foreign transfers and foreign transfers distributed by government encompassing all financial inflows into the national health system from outside the country. External sources either flow through the government scheme or are channeled through non-governmental organizations or other schemes.\n",
    "10. __Physicians_per_1000__: Physicians include generalist and specialist medical practitioners.\n",
    "11. __Nurses_per_1000__: Nurses and midwives include professional nurses, professional midwives, auxiliary nurses, auxiliary midwives, enrolled nurses, enrolled midwives and other associated personnel, such as dental nurses and primary care nurses.\n",
    "12. __Specialist_surgical_per_100000__: Specialist surgical workforce is the number of specialist surgical, anaesthetic, and obstetric (SAO) providers who are working in each country per 100,000 population.\n",
    "13. __Birth_reg_pct__: Completeness of birth registration is the percentage of children under age 5 whose births were registered at the time of the survey. The numerator of completeness of birth registration includes children whose birth certificate was seen by the interviewer or whose mother or caretaker says the birth has been registered.\n",
    "14. __Death_reg_pct__: Completeness of death registration is the estimated percentage of deaths that are registered with their cause of death information in the vital registration system of a country."
   ]
  },
  {
   "cell_type": "code",
   "execution_count": 66,
   "metadata": {},
   "outputs": [
    {
     "data": {
      "text/html": [
       "<table>\n",
       "<caption>A tibble: 6 × 14</caption>\n",
       "<thead>\n",
       "\t<tr><th scope=col>Country</th><th scope=col>Province</th><th scope=col>Bank_Name</th><th scope=col>Health_exp_pct_of_GDP</th><th scope=col>Health_exp_funded_by_public</th><th scope=col>Health_exp_funded_by_household</th><th scope=col>Health_exp_percapita_USD</th><th scope=col>Health_exp_percapita_PPP</th><th scope=col>Health_exp_pct_funded_by_externals</th><th scope=col>Physicians_per_1000</th><th scope=col>Nurses_per_1000</th><th scope=col>Specialist_surgical_per_100000</th><th scope=col>Birth_reg_pct</th><th scope=col>Death_reg_pct</th></tr>\n",
       "\t<tr><th scope=col>&lt;chr&gt;</th><th scope=col>&lt;chr&gt;</th><th scope=col>&lt;chr&gt;</th><th scope=col>&lt;dbl&gt;</th><th scope=col>&lt;dbl&gt;</th><th scope=col>&lt;dbl&gt;</th><th scope=col>&lt;dbl&gt;</th><th scope=col>&lt;dbl&gt;</th><th scope=col>&lt;dbl&gt;</th><th scope=col>&lt;dbl&gt;</th><th scope=col>&lt;dbl&gt;</th><th scope=col>&lt;dbl&gt;</th><th scope=col>&lt;dbl&gt;</th><th scope=col>&lt;dbl&gt;</th></tr>\n",
       "</thead>\n",
       "<tbody>\n",
       "\t<tr><td>Afghanistan        </td><td>NA</td><td>Afghanistan        </td><td>10.2</td><td> 5.1</td><td>77.4</td><td>  57.2</td><td> 162.8</td><td>17.5</td><td>0.3</td><td>0.3</td><td> 0.0</td><td> 42.3</td><td>NaN</td></tr>\n",
       "\t<tr><td>Albania            </td><td>NA</td><td>Albania            </td><td> 6.7</td><td>41.4</td><td>58.0</td><td> 271.5</td><td> 759.7</td><td> 0.7</td><td>1.2</td><td>3.6</td><td>11.6</td><td> 98.4</td><td> 53</td></tr>\n",
       "\t<tr><td>Algeria            </td><td>NA</td><td>Algeria            </td><td> 6.6</td><td>67.7</td><td>30.9</td><td> 260.4</td><td> 998.2</td><td> 0.0</td><td>1.8</td><td>2.2</td><td>12.1</td><td>100.0</td><td>NaN</td></tr>\n",
       "\t<tr><td>Andorra            </td><td>NA</td><td>Andorra            </td><td>10.4</td><td>49.1</td><td>41.7</td><td>3834.7</td><td>4978.7</td><td> NaN</td><td>3.3</td><td>4.0</td><td>83.1</td><td>100.0</td><td> 80</td></tr>\n",
       "\t<tr><td>Angola             </td><td>NA</td><td>Angola             </td><td> 2.9</td><td>44.1</td><td>35.2</td><td>  95.2</td><td> 185.8</td><td> 3.6</td><td>0.2</td><td>1.3</td><td> NaN</td><td> 25.0</td><td>NaN</td></tr>\n",
       "\t<tr><td>Antigua and Barbuda</td><td>NA</td><td>Antigua and Barbuda</td><td> 4.3</td><td>60.6</td><td>32.2</td><td> 623.1</td><td> 976.4</td><td> 0.0</td><td>2.8</td><td>3.1</td><td>14.0</td><td>  NaN</td><td> 79</td></tr>\n",
       "</tbody>\n",
       "</table>\n"
      ],
      "text/latex": [
       "A tibble: 6 × 14\n",
       "\\begin{tabular}{llllllllllllll}\n",
       " Country & Province & Bank\\_Name & Health\\_exp\\_pct\\_of\\_GDP & Health\\_exp\\_funded\\_by\\_public & Health\\_exp\\_funded\\_by\\_household & Health\\_exp\\_percapita\\_USD & Health\\_exp\\_percapita\\_PPP & Health\\_exp\\_pct\\_funded\\_by\\_externals & Physicians\\_per\\_1000 & Nurses\\_per\\_1000 & Specialist\\_surgical\\_per\\_100000 & Birth\\_reg\\_pct & Death\\_reg\\_pct\\\\\n",
       " <chr> & <chr> & <chr> & <dbl> & <dbl> & <dbl> & <dbl> & <dbl> & <dbl> & <dbl> & <dbl> & <dbl> & <dbl> & <dbl>\\\\\n",
       "\\hline\n",
       "\t Afghanistan         & NA & Afghanistan         & 10.2 &  5.1 & 77.4 &   57.2 &  162.8 & 17.5 & 0.3 & 0.3 &  0.0 &  42.3 & NaN\\\\\n",
       "\t Albania             & NA & Albania             &  6.7 & 41.4 & 58.0 &  271.5 &  759.7 &  0.7 & 1.2 & 3.6 & 11.6 &  98.4 &  53\\\\\n",
       "\t Algeria             & NA & Algeria             &  6.6 & 67.7 & 30.9 &  260.4 &  998.2 &  0.0 & 1.8 & 2.2 & 12.1 & 100.0 & NaN\\\\\n",
       "\t Andorra             & NA & Andorra             & 10.4 & 49.1 & 41.7 & 3834.7 & 4978.7 &  NaN & 3.3 & 4.0 & 83.1 & 100.0 &  80\\\\\n",
       "\t Angola              & NA & Angola              &  2.9 & 44.1 & 35.2 &   95.2 &  185.8 &  3.6 & 0.2 & 1.3 &  NaN &  25.0 & NaN\\\\\n",
       "\t Antigua and Barbuda & NA & Antigua and Barbuda &  4.3 & 60.6 & 32.2 &  623.1 &  976.4 &  0.0 & 2.8 & 3.1 & 14.0 &   NaN &  79\\\\\n",
       "\\end{tabular}\n"
      ],
      "text/markdown": [
       "\n",
       "A tibble: 6 × 14\n",
       "\n",
       "| Country &lt;chr&gt; | Province &lt;chr&gt; | Bank_Name &lt;chr&gt; | Health_exp_pct_of_GDP &lt;dbl&gt; | Health_exp_funded_by_public &lt;dbl&gt; | Health_exp_funded_by_household &lt;dbl&gt; | Health_exp_percapita_USD &lt;dbl&gt; | Health_exp_percapita_PPP &lt;dbl&gt; | Health_exp_pct_funded_by_externals &lt;dbl&gt; | Physicians_per_1000 &lt;dbl&gt; | Nurses_per_1000 &lt;dbl&gt; | Specialist_surgical_per_100000 &lt;dbl&gt; | Birth_reg_pct &lt;dbl&gt; | Death_reg_pct &lt;dbl&gt; |\n",
       "|---|---|---|---|---|---|---|---|---|---|---|---|---|---|\n",
       "| Afghanistan         | NA | Afghanistan         | 10.2 |  5.1 | 77.4 |   57.2 |  162.8 | 17.5 | 0.3 | 0.3 |  0.0 |  42.3 | NaN |\n",
       "| Albania             | NA | Albania             |  6.7 | 41.4 | 58.0 |  271.5 |  759.7 |  0.7 | 1.2 | 3.6 | 11.6 |  98.4 |  53 |\n",
       "| Algeria             | NA | Algeria             |  6.6 | 67.7 | 30.9 |  260.4 |  998.2 |  0.0 | 1.8 | 2.2 | 12.1 | 100.0 | NaN |\n",
       "| Andorra             | NA | Andorra             | 10.4 | 49.1 | 41.7 | 3834.7 | 4978.7 |  NaN | 3.3 | 4.0 | 83.1 | 100.0 |  80 |\n",
       "| Angola              | NA | Angola              |  2.9 | 44.1 | 35.2 |   95.2 |  185.8 |  3.6 | 0.2 | 1.3 |  NaN |  25.0 | NaN |\n",
       "| Antigua and Barbuda | NA | Antigua and Barbuda |  4.3 | 60.6 | 32.2 |  623.1 |  976.4 |  0.0 | 2.8 | 3.1 | 14.0 |   NaN |  79 |\n",
       "\n"
      ],
      "text/plain": [
       "  Country             Province Bank_Name           Health_exp_pct_of_GDP\n",
       "1 Afghanistan         NA       Afghanistan         10.2                 \n",
       "2 Albania             NA       Albania              6.7                 \n",
       "3 Algeria             NA       Algeria              6.6                 \n",
       "4 Andorra             NA       Andorra             10.4                 \n",
       "5 Angola              NA       Angola               2.9                 \n",
       "6 Antigua and Barbuda NA       Antigua and Barbuda  4.3                 \n",
       "  Health_exp_funded_by_public Health_exp_funded_by_household\n",
       "1  5.1                        77.4                          \n",
       "2 41.4                        58.0                          \n",
       "3 67.7                        30.9                          \n",
       "4 49.1                        41.7                          \n",
       "5 44.1                        35.2                          \n",
       "6 60.6                        32.2                          \n",
       "  Health_exp_percapita_USD Health_exp_percapita_PPP\n",
       "1   57.2                    162.8                  \n",
       "2  271.5                    759.7                  \n",
       "3  260.4                    998.2                  \n",
       "4 3834.7                   4978.7                  \n",
       "5   95.2                    185.8                  \n",
       "6  623.1                    976.4                  \n",
       "  Health_exp_pct_funded_by_externals Physicians_per_1000 Nurses_per_1000\n",
       "1 17.5                               0.3                 0.3            \n",
       "2  0.7                               1.2                 3.6            \n",
       "3  0.0                               1.8                 2.2            \n",
       "4  NaN                               3.3                 4.0            \n",
       "5  3.6                               0.2                 1.3            \n",
       "6  0.0                               2.8                 3.1            \n",
       "  Specialist_surgical_per_100000 Birth_reg_pct Death_reg_pct\n",
       "1  0.0                            42.3         NaN          \n",
       "2 11.6                            98.4          53          \n",
       "3 12.1                           100.0         NaN          \n",
       "4 83.1                           100.0          80          \n",
       "5  NaN                            25.0         NaN          \n",
       "6 14.0                             NaN          79          "
      ]
     },
     "metadata": {},
     "output_type": "display_data"
    }
   ],
   "source": [
    "df = read_csv(\"2.12_Health_systems.csv\", col_types = c(\"cccddddddddddd\"))\n",
    "colnames(df) = c(\"Country\", \"Province\", \"Bank_Name\", \"Health_exp_pct_of_GDP\", \"Health_exp_funded_by_public\", \"Health_exp_funded_by_household\", \"Health_exp_percapita_USD\", \n",
    "                \"Health_exp_percapita_PPP\", \"Health_exp_pct_funded_by_externals\", \"Physicians_per_1000\", \"Nurses_per_1000\", \"Specialist_surgical_per_100000\", \"Birth_reg_pct\", \"Death_reg_pct\")\n",
    "head(df)"
   ]
  },
  {
   "cell_type": "markdown",
   "metadata": {},
   "source": [
    "# PreProcessing\n",
    "## Removing NANs\n",
    "First, we check how many nans are in each column of the dataset.\n",
    "\n",
    "Province has a lot of NA values, because it only contains the provinces of countries and is NA when the country has no province."
   ]
  },
  {
   "cell_type": "code",
   "execution_count": 67,
   "metadata": {},
   "outputs": [
    {
     "name": "stdout",
     "output_type": "stream",
     "text": [
      "percentage of missing values in the entire dataset: 20.71429 %\n",
      "                           Country                           Province \n",
      "                         0.1095238                          0.9333333 \n",
      "                         Bank_Name              Health_exp_pct_of_GDP \n",
      "                         0.0000000                          0.1142857 \n",
      "       Health_exp_funded_by_public     Health_exp_funded_by_household \n",
      "                         0.1142857                          0.1142857 \n",
      "          Health_exp_percapita_USD           Health_exp_percapita_PPP \n",
      "                         0.1142857                          0.1142857 \n",
      "Health_exp_pct_funded_by_externals                Physicians_per_1000 \n",
      "                         0.2047619                          0.1000000 \n",
      "                   Nurses_per_1000     Specialist_surgical_per_100000 \n",
      "                         0.1000000                          0.1666667 \n",
      "                     Birth_reg_pct                      Death_reg_pct \n",
      "                         0.2238095                          0.4904762 \n"
     ]
    }
   ],
   "source": [
    "cat(\"percentage of missing values in the entire dataset:\", mean(is.na(df) * 100), \"%\\n\")\n",
    "print(colMeans(is.na(df)))"
   ]
  },
  {
   "cell_type": "markdown",
   "metadata": {},
   "source": [
    "We decide to remove the variables _Country_ and _Province_, because of the NAs and because the Country variable is only an id for each observation, therefore it has no real information to give us.\n",
    "\n",
    "The _Death_reg_pct_ is removed due to a high number of NAs and because it would not be viable to impute such a large number of values."
   ]
  },
  {
   "cell_type": "code",
   "execution_count": 68,
   "metadata": {},
   "outputs": [],
   "source": [
    "df = df[, !names(df) %in% c(\"Country\", \"Province\", \"Death_reg_pct\")]"
   ]
  },
  {
   "cell_type": "markdown",
   "metadata": {},
   "source": [
    "__Removing all observations that have three or more null values__\n",
    "\n",
    "This way, most null values are eliminated in an efficient way that also removes the observations with less information available."
   ]
  },
  {
   "cell_type": "code",
   "execution_count": 70,
   "metadata": {},
   "outputs": [],
   "source": [
    "df$na_count <- apply(is.na(df), 1, sum)\n",
    "df = df[(df[,\"na_count\"]<=3),]"
   ]
  },
  {
   "cell_type": "code",
   "execution_count": 71,
   "metadata": {},
   "outputs": [
    {
     "name": "stdout",
     "output_type": "stream",
     "text": [
      "Percentage of missing values in dataset after removing observation with 3 or more NA values: 3.181004 %"
     ]
    }
   ],
   "source": [
    "cat(\"Percentage of missing values in dataset after removing observation with 3 or more NA values:\", mean(is.na(df)) * 100, \"%\")"
   ]
  },
  {
   "cell_type": "markdown",
   "metadata": {},
   "source": [
    "### KNN imputation\n",
    "The remaining __3.18%__ of missing values in the dataset are dealt with using the KNN imputation technique. This way, we are able to impute values into observations based on the median of their 5 nearest neighbors."
   ]
  },
  {
   "cell_type": "code",
   "execution_count": 72,
   "metadata": {},
   "outputs": [
    {
     "name": "stdout",
     "output_type": "stream",
     "text": [
      "Percentage of missing values after KNN imputation: 0 %"
     ]
    }
   ],
   "source": [
    "imputed_data = kNN(df[, 2:11], imp_var = FALSE, useImputedDist = FALSE)\n",
    "imputed_data$Bank_Name = df$Bank_Name\n",
    "cat(\"Percentage of missing values after KNN imputation:\", mean(is.na(imputed_data)), \"%\")"
   ]
  },
  {
   "cell_type": "markdown",
   "metadata": {},
   "source": [
    "As we can see, the final percentage of missing values is __0%__, meaning our data is ready to be explored.\n",
    "\n",
    "# Univariate analysis"
   ]
  },
  {
   "cell_type": "code",
   "execution_count": 73,
   "metadata": {},
   "outputs": [
    {
     "data": {
      "text/plain": [
       "   Min. 1st Qu.  Median    Mean 3rd Qu.    Max. \n",
       "  1.700   4.500   6.200   6.715   8.375  23.300 "
      ]
     },
     "metadata": {},
     "output_type": "display_data"
    }
   ],
   "source": [
    "summary(imputed_data$Health_exp_pct_of_GDP)"
   ]
  },
  {
   "cell_type": "code",
   "execution_count": 74,
   "metadata": {},
   "outputs": [
    {
     "name": "stderr",
     "output_type": "stream",
     "text": [
      "`stat_bin()` using `bins = 30`. Pick better value with `binwidth`.\n",
      "\n"
     ]
    },
    {
     "data": {
      "image/png": "[encoded data removed]",
      "text/plain": [
       "plot without title"
      ]
     },
     "metadata": {
      "image/png": {
       "height": 420,
       "width": 840
      },
      "text/plain": {
       "height": 420,
       "width": 840
      }
     },
     "output_type": "display_data"
    }
   ],
   "source": [
    "options(repr.plot.width = 14, repr.plot.height = 7)\n",
    "\n",
    "imputed_data %>% ggplot(aes(Health_exp_pct_of_GDP)) +\n",
    "    geom_histogram(color = \"black\", fill = \"grey\") +\n",
    "    geom_vline(xintercept = mean(df$Health_exp_pct_of_GDP), lwd = 2) + \n",
    "    labs(title = \"Distribution of Health expenditure as percentage of GDP\", x = \"Percentage of GDP as health expenditures\", y = \"Number of countries\") +\n",
    "    theme(text = element_text(size = 20))"
   ]
  }
 ],
 "metadata": {
  "kernelspec": {
   "display_name": "R",
   "language": "R",
   "name": "ir"
  },
  "language_info": {
   "codemirror_mode": "r",
   "file_extension": ".r",
   "mimetype": "text/x-r-source",
   "name": "R",
   "pygments_lexer": "r",
   "version": "3.6.3"
  }
 },
 "nbformat": 4,
 "nbformat_minor": 4
}
